{
 "cells": [
  {
   "cell_type": "code",
   "execution_count": null,
   "id": "6d376e1b",
   "metadata": {},
   "outputs": [],
   "source": [
    "pip install selenium\n",
    "from selenium import webdriver\n",
    "from selenium.webdriver.chrome.options import Options\n",
    "from selenium.webdriver.common.by import By\n",
    "#class for score \"link edit-disabled\"\n",
    "#class for Name of anime \"link sort\"\n",
    "#getting 2000 profiles names from the users page on Myanimelist (20 are available on every refresh 20*100=2000 )\n",
    "def Getprofiles(profileList):\n",
    "    for i in range(100):\n",
    "        options = Options()\n",
    "        #options.headless = True\n",
    "        options.add_argument(\"--window-size=1920,1200\")\n",
    "        DRIVER_PATH=\"C:\\Program Files (x86)\\chromedriver.exe\"\n",
    "        driver = webdriver.Chrome(options=options, executable_path=DRIVER_PATH)\n",
    "        driver.get(\"https://myanimelist.net/users.php\")\n",
    "        profileName=driver.find_elements(By.TAG_NAME,\"a\")\n",
    "        for k in profileName[50:90]:\n",
    "            if k.text!=\"\":\n",
    "                profileList.append(k.text)\n",
    "    return profileList\n",
    "profileList=[]\n",
    "listP=Getprofiles(profileList) #calling the function\n",
    "print(len(listP))\n",
    "#Getting animeLists and scores of users, input are mainList(empty list) and listP(list of Profile names)\n",
    "def GetItemsInList(mainList, listP):\n",
    "        for profile in listP:\n",
    "            options = Options()\n",
    "            #options.headless = True\n",
    "            options.add_argument(\"--window-size=1920,1200\")\n",
    "            DRIVER_PATH=\"C:\\Program Files (x86)\\chromedriver.exe\"\n",
    "            driver = webdriver.Chrome(options=options, executable_path=DRIVER_PATH)\n",
    "            driver.get(\"https://myanimelist.net/animelist/\"+profile+\"?status=2\")\n",
    "            name= driver.find_elements(By.CLASS_NAME, \"link.sort\")\n",
    "            score= driver.find_elements(By.CLASS_NAME, \"link.edit-disabled\")\n",
    "            list_name=[]\n",
    "            list_score=[]\n",
    "            for value in name[4:]:\n",
    "                if value.text !=\"\":\n",
    "                    list_name.append(value.text)\n",
    "            for value in score:\n",
    "                list_score.append(value.text)\n",
    "            driver.quit()\n",
    "            data_tuples = dict(zip(list_name,list_score))\n",
    "            mainList.append(data_tuples)\n",
    "        print(\"DONE\")\n",
    "mainList=[]\n",
    "GetItemsInList(mainList,listP) #calling the function\n",
    "# dumping the data into a json\n",
    "import json\n",
    "jsonString = json.dumps(mainList)\n",
    "with open('Reviews.json', 'w') as f:\n",
    "    json.dump(jsonString, f)"
   ]
  }
 ],
 "metadata": {
  "kernelspec": {
   "display_name": "Python 3 (ipykernel)",
   "language": "python",
   "name": "python3"
  },
  "language_info": {
   "codemirror_mode": {
    "name": "ipython",
    "version": 3
   },
   "file_extension": ".py",
   "mimetype": "text/x-python",
   "name": "python",
   "nbconvert_exporter": "python",
   "pygments_lexer": "ipython3",
   "version": "3.9.12"
  }
 },
 "nbformat": 4,
 "nbformat_minor": 5
}
