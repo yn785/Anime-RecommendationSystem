{
 "cells": [
  {
   "cell_type": "code",
   "execution_count": null,
   "id": "86154966",
   "metadata": {},
   "outputs": [],
   "source": [
    "# IF YOU HAVE ALL THE DATA ALREADY START FROM HERE 'Reviews.json'\n",
    "def SimilarityMatrix(data):\n",
    "    #data1=data.astype(str)\n",
    "    data1=data.apply(lambda x: x.fillna(x.mean(), inplace=True))\n",
    "    #data1=data.fillna(data.mean(),inplace=True)\n",
    "    #print(data1)\n",
    "    return data1.head()\n",
    "# Need to check the value type cz it's not giving the mean properly\n",
    "def Cleaning(Filename):\n",
    "    #Creating a pandas dataframe\n",
    "    import pandas as pd\n",
    "    import json\n",
    "    f = open(Filename)\n",
    "    data1 = json.load(f)\n",
    "    data = pd.read_json(data1)\n",
    "    #Cleaning the data\n",
    "    #checking if there is any 0 value in data\n",
    "    data.eq(0).any().any() \n",
    "    #changing \"-\" value to null\n",
    "    import numpy as np\n",
    "    data = data.replace(\"-\", pd.NA)\n",
    "    data = data.replace({np.nan: pd.NA})\n",
    "    # dropping all users with no scoring \n",
    "    data = data.dropna(how='all')\n",
    "    #dropping all anime with no ratings\n",
    "    data = data.dropna(how='all', axis=1)\n",
    "    #return data.head()\n",
    "    SimilarityMatrix(data)\n",
    "    #return data\n",
    "Cleaning('Reviews.json')\n",
    "\n",
    "    "
   ]
  }
 ],
 "metadata": {
  "kernelspec": {
   "display_name": "Python 3 (ipykernel)",
   "language": "python",
   "name": "python3"
  },
  "language_info": {
   "codemirror_mode": {
    "name": "ipython",
    "version": 3
   },
   "file_extension": ".py",
   "mimetype": "text/x-python",
   "name": "python",
   "nbconvert_exporter": "python",
   "pygments_lexer": "ipython3",
   "version": "3.9.12"
  }
 },
 "nbformat": 4,
 "nbformat_minor": 5
}
